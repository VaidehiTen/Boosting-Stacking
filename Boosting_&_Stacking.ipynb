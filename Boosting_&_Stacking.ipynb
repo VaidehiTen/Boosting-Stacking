{
  "nbformat": 4,
  "nbformat_minor": 0,
  "metadata": {
    "colab": {
      "provenance": []
    },
    "kernelspec": {
      "name": "python3",
      "display_name": "Python 3"
    },
    "language_info": {
      "name": "python"
    }
  },
  "cells": [
    {
      "cell_type": "markdown",
      "source": [
        "# **Boosting & Stacking Assignment**\n"
      ],
      "metadata": {
        "id": "YFRR-li3Ji9K"
      }
    },
    {
      "cell_type": "markdown",
      "source": [
        "1. **What is Boosting in Machine Learning? Explain how it improves weak\n",
        "learners**.\n",
        "- Boosting is an ensemble machine learning technique that builds a strong predictive model by combining multiple \"weak learners\" in a sequential process.\n",
        "- A weak learner is any model that performs only slightly better than random guessing, such as a shallow decision tree (often called a decision stump). Unlike other ensemble methods like bagging, which train models independently, boosting trains each new model to correct the errors of its predecessor.\n",
        "- The final strong model is a weighted combination of all the weak learners. This iterative approach focuses on minimizing errors, primarily reducing bias and to a lesser extent, variance, which results in a highly accurate and robust model.\n",
        "\n",
        "  **How boosting improves weak learners**\n",
        "\n",
        "- Boosting improves weak learners by iteratively training new models that learn from the errors of their predecessors. This approach effectively reduces the model's bias and leads to a more robust and accurate final model.\n",
        "- Here is a step-by-step breakdown of the general process, using AdaBoost as an example:\n",
        "  - Initial model: A weak learner is trained on the dataset, with each data point having an equal weight.\n",
        "  - Identify and weigh errors: The model makes an initial prediction, and the algorithm identifies which data points were misclassified. It then increases the weight of these misclassified data points, giving them more importance.\n",
        "  - Train the next learner: A second weak learner is trained on the dataset, but this time it pays more attention to the higher-weighted, misclassified data points.\n",
        "  - Repeat and aggregate: This process repeats for a set number of iterations. Each subsequent model is trained to correct the errors of the combined ensemble that came before it.\n",
        "  - Final model: The final, \"strong\" model combines the results of all the weak learners. Learners that performed better are given more weight in the final prediction, resulting in a model that can make more accurate and complex predictions than any single learner could.\n",
        "\n"
      ],
      "metadata": {
        "id": "OPHuHxIVJo6j"
      }
    },
    {
      "cell_type": "markdown",
      "source": [
        "2. **What is the difference between AdaBoost and Gradient Boosting in terms\n",
        "of how models are trained?**\n",
        "- AdaBoost and Gradient Boosting both train models sequentially to correct the mistakes of previous models, but they differ fundamentally in how they identify and address those errors.\n",
        "- AdaBoost modifies the weight of each data point to focus on misclassified samples, while Gradient Boosting trains new models to specifically predict the residual errors of the prior models.\n",
        "\n",
        "  **How AdaBoost trains its models**\n",
        "\n",
        "  The AdaBoost (Adaptive Boosting) algorithm uses a system of weighted votes to train its weak learners, which are typically shallow decision trees or \"stumps\".\n",
        "  - Initial weights: All training examples are initially given an equal weight.\n",
        "  - Sequential training: A weak learner is trained on the dataset using the current sample weights. After training, the algorithm evaluates the learner's performance.\n",
        "  - Update weights:\n",
        "    - The weights of correctly classified instances are decreased.\n",
        "    - The weights of misclassified instances are increased, so the next weak learner will focus more on these \"difficult\" cases.\n",
        "  - Repeat and combine: This process repeats for a set number of iterations. The final model is a weighted sum of all the weak learners, where the vote of each learner is weighted by its accuracy.\n",
        "\n",
        "  **How Gradient Boosting trains its models**\n",
        "\n",
        "  Gradient Boosting takes a more mathematical approach, using a differentiable loss function to find the errors that need to be corrected.\n",
        "  - Initial prediction: The process starts with a simple initial prediction, such as the average of the target values.\n",
        "  - Calculate residuals: The algorithm calculates the residuals, which are the differences between the actual and predicted values. For classification, it uses a variation called \"pseudo-residuals\".\n",
        "  - Train on residuals: A new weak learner, usually a deeper decision tree than an AdaBoost stump, is trained to predict the residuals from the previous step.\n",
        "  - Sequential addition: The new model is added to the ensemble, but its contribution is scaled down by a learning rate to prevent overfitting.\n",
        "  - Repeat and refine: The new ensemble prediction is the initial prediction plus the (scaled) output of the new model. The residuals are recalculated, and a new model is trained to fix the remaining errors. This continues until the overall error is minimized."
      ],
      "metadata": {
        "id": "WsaMsZrAQoXd"
      }
    },
    {
      "cell_type": "markdown",
      "source": [
        "3. **How does regularization help in XGBoost?**\n",
        "- Regularization helps XGBoost by controlling model complexity and preventing overfitting, which is when a model learns the training data too well and performs poorly on unseen data. This leads to a more robust and generalized model that can make accurate predictions on new data.\n",
        "\n",
        "  **How regularization works in XGBoost**\n",
        "\n",
        "  XGBoost's objective function is a combination of two parts: the training loss and a regularization term. The regularization term penalizes the complexity of the model, specifically the decision trees being built, to keep it from becoming too intricate.\n",
        "\n",
        "  The primary ways regularization is implemented include:\n",
        "-  L1 and L2 regularization (**α**) and (**λ**): These are parameters that penalize the \"leaf weights\" (the final prediction scores in each leaf of the tree).\n",
        "    - L1 regularization (**α**): Adds a penalty equal to the absolute value of the leaf weights, which can force some of them to become exactly zero. This promotes sparsity, making the model simpler by effectively removing less important features.\n",
        "    - L2 regularization (**λ**): Adds a penalty equal to the square of the leaf weights, which encourages the weights to be small but not necessarily zero. It stabilizes the model by preventing any single feature from having too much influence.\n",
        "- Gamma (**γ**): This parameter specifies the minimum loss reduction required to make a further split on a leaf node. A higher **γ** value makes the algorithm more conservative by creating fewer, more significant splits, which results in shallower trees and less risk of overfitting.\n",
        "- `max_depth`: This hyperparameter directly limits how deep each decision tree can grow. A shallower tree is less complex and less likely to overfit.\n",
        "- `min_child_weight`: This sets a minimum threshold on the sum of instance weights (or \"cover\") needed in a child node for a split to occur. Increasing this value makes the algorithm more conservative by preventing it from creating partitions on nodes with few data points, which are more susceptible to noise.\n",
        "- Subsampling (`subsample` and `colsample`): These techniques introduce randomness by training each new tree on only a fraction of the data or a subset of the features. This prevents the model from becoming dependent on specific data points or features, improving its robustness.\n",
        "- Early stopping (`early_stopping_rounds`): This technique stops the training process if a model's performance on a validation set doesn't improve for a specified number of rounds. This prevents the model from training for too long and overfitting.\n",
        "- Shrinkage (`eta` or `learning_rate`): The learning rate controls how much each new tree's contribution shrinks towards the final prediction. A smaller learning rate forces the model to take smaller steps, requiring more trees but improving its robustness and generalization.     "
      ],
      "metadata": {
        "id": "eObYPI4-SKdh"
      }
    },
    {
      "cell_type": "markdown",
      "source": [
        "4. **Why is CatBoost considered efficient for handling categorical data?**\n",
        "- CatBoost is efficient at handling categorical data primarily because of its ordered target encoding and ordered boosting mechanisms, which prevent the data leakage and overfitting that can plague other gradient boosting models. This approach bypasses the need for manual, time-consuming preprocessing steps like one-hot encoding.\n",
        "\n",
        "  **How CatBoost's categorical handling works**\n",
        "\n",
        "- Ordered Target Encoding\n",
        "\n",
        "  Standard target encoding, which replaces categories with the mean of the target variable, is susceptible to a form of data leakage called \"target leakage\". If the model uses the target variable to encode the same data it is trained on, it can learn patterns from the target variable that would not be available for real-world predictions.\n",
        "\n",
        "  CatBoost avoids this by using a permutation-driven approach to compute target statistics:\n",
        "  - It creates a random permutation of the training data.\n",
        "  - For each example in the dataset, it calculates the target statistic based only on the rows that appeared before it in the random permutation.\n",
        "  - This ensures the model cannot use information from future data points to encode the current one, protecting against data leakage and overfitting.\n",
        "- Ordered Boosting\n",
        "\n",
        "  Classic gradient boosting algorithms can suffer from a \"prediction shift\" because the gradients for a new tree are calculated using the same data the current model was trained on. CatBoost addresses this with an ordered boosting mechanism.\n",
        "  - In each iteration, CatBoost builds a new base model on a different, randomly permuted subset of the data.\n",
        "  - The residuals (errors) for a data point are calculated using a model trained only on data points that came before it in the permutation.\n",
        "  - This reduces bias in gradient estimation, which in turn leads to more robust and accurate models.  \n",
        "\n"
      ],
      "metadata": {
        "id": "X1YbZjHVVOSg"
      }
    },
    {
      "cell_type": "markdown",
      "source": [
        "5. **What are some real-world applications where boosting techniques are\n",
        "preferred over bagging methods?**\n",
        "- Boosting techniques are often preferred over bagging in applications where achieving high predictive accuracy on complex, imbalanced, or intricate datasets is the top priority. Unlike bagging (which focuses on reducing variance), boosting sequentially builds models that correct the errors of previous ones, effectively reducing bias and uncovering subtle data patterns.\n",
        "\n",
        "  **Real-world applications for boosting over bagging**\n",
        "\n",
        "- Medical diagnosis\n",
        "\n",
        "  Boosting is used for tasks like predicting disease risk or classifying diseases from patient data.\n",
        "  - Boosting's strength: When a disease is rare, boosting can learn from the errors of a weak classifier to improve its ability to identify the complex patterns associated with the minority class.\n",
        "  - Bagging's weakness: In a highly imbalanced dataset, a bagging model may overlook the patterns associated with the rare disease, as its focus is averaged across all cases, potentially leading to misdiagnosis.\n",
        "- Marketing and customer analytics\n",
        "  \n",
        "  Boosting is ideal for precise marketing efforts, such as predicting customer churn or customer lifetime value.\n",
        "  - Boosting's strength: These models excel at finding the subtle behaviors and features that indicate a customer is at high risk of leaving, allowing for targeted intervention strategies.\n",
        "  - Bagging's weakness: Since it averages the results of multiple independent models, a bagging model may not have the same precision for predicting rare, complex events like churn, especially if the signal is subtle.  \n",
        "- Fraud detection\n",
        "\n",
        "  In finance and e-commerce, fraud detection is a classic example of an imbalanced dataset, where fraudulent transactions are extremely rare compared to legitimate ones.\n",
        "  - Boosting's strength: By sequentially re-weighting misclassified transactions, boosting algorithms like XGBoost and LightGBM force the model to focus on the hard-to-classify, rare fraudulent cases.\n",
        "  - Bagging's weakness: A bagging method like Random Forest might average out the importance of these rare events because most of its base models are trained on resampled data dominated by legitimate transactions.   \n",
        "- Ranking systems\n",
        "\n",
        "  Search engines and recommender systems require a specific order of items rather than simple classification.\n",
        "  - Boosting's strength: Modern boosting libraries like LightGBM and XGBoost offer specialized ranking objective functions that can directly optimize for the correct order of items. By iteratively refining the model, they can learn the complex, non-linear relationships that determine relative relevance.\n",
        "  - Bagging's weakness: Standard bagging methods are not designed to optimize for ranked outcomes and are less effective at capturing the subtle, complex feature interactions required for accurate item ordering.   "
      ],
      "metadata": {
        "id": "nZKchzHdZC_J"
      }
    },
    {
      "cell_type": "markdown",
      "source": [
        "6. **Write a Python program to:**\n",
        "  - **Train an AdaBoost Classifier on the Breast Cancer dataset**\n",
        "  - **Print the model accuracy**"
      ],
      "metadata": {
        "id": "Yq8JRIlvcKTt"
      }
    },
    {
      "cell_type": "code",
      "source": [
        "from sklearn.datasets import load_breast_cancer\n",
        "from sklearn.ensemble import AdaBoostClassifier\n",
        "from sklearn.model_selection import train_test_split\n",
        "from sklearn.metrics import accuracy_score\n",
        "\n",
        "# Load the breast cancer dataset\n",
        "data = load_breast_cancer()\n",
        "X = data.data\n",
        "y = data.target\n",
        "\n",
        "# Split the dataset into training and testing sets\n",
        "X_train, X_test, y_train, y_test = train_test_split(X, y, test_size=0.2, random_state=42)\n",
        "\n",
        "# Initialize the AdaBoost classifier\n",
        "model = AdaBoostClassifier(random_state=42)\n",
        "\n",
        "# Train the model\n",
        "model.fit(X_train, y_train)\n",
        "\n",
        "# Predict on the test set\n",
        "y_pred = model.predict(X_test)\n",
        "\n",
        "# Calculate and print the accuracy\n",
        "accuracy = accuracy_score(y_test, y_pred)\n",
        "print(f\"AdaBoost Classifier Accuracy: {accuracy:.4f}\")\n"
      ],
      "metadata": {
        "colab": {
          "base_uri": "https://localhost:8080/"
        },
        "id": "6tz2MIh2ca8A",
        "outputId": "0cfc3009-f9fa-40f6-90b6-96c1aebe8f4b"
      },
      "execution_count": 1,
      "outputs": [
        {
          "output_type": "stream",
          "name": "stdout",
          "text": [
            "AdaBoost Classifier Accuracy: 0.9649\n"
          ]
        }
      ]
    },
    {
      "cell_type": "markdown",
      "source": [
        "7. **Write a Python program to:**\n",
        "  - **Train a Gradient Boosting Regressor on the California Housing dataset**\n",
        "  - **Evaluate performance using R-squared score**"
      ],
      "metadata": {
        "id": "EemcKn1xdKRY"
      }
    },
    {
      "cell_type": "code",
      "source": [
        "from sklearn.datasets import fetch_california_housing\n",
        "from sklearn.ensemble import GradientBoostingRegressor\n",
        "from sklearn.model_selection import train_test_split\n",
        "from sklearn.metrics import r2_score\n",
        "\n",
        "# Load the California housing dataset\n",
        "data = fetch_california_housing()\n",
        "X = data.data\n",
        "y = data.target\n",
        "\n",
        "# Split the dataset into training and testing sets\n",
        "X_train, X_test, y_train, y_test = train_test_split(X, y, test_size=0.2, random_state=42)\n",
        "\n",
        "# Initialize the Gradient Boosting Regressor\n",
        "model = GradientBoostingRegressor(random_state=42)\n",
        "\n",
        "# Train the model\n",
        "model.fit(X_train, y_train)\n",
        "\n",
        "# Predict on the test set\n",
        "y_pred = model.predict(X_test)\n",
        "\n",
        "# Evaluate the model using R-squared score\n",
        "r2 = r2_score(y_test, y_pred)\n",
        "print(f\"Gradient Boosting Regressor R-squared Score: {r2:.4f}\")\n"
      ],
      "metadata": {
        "colab": {
          "base_uri": "https://localhost:8080/"
        },
        "id": "em5UEvojdWgS",
        "outputId": "189a660d-90f6-4d89-e623-9547629698d5"
      },
      "execution_count": 2,
      "outputs": [
        {
          "output_type": "stream",
          "name": "stdout",
          "text": [
            "Gradient Boosting Regressor R-squared Score: 0.7756\n"
          ]
        }
      ]
    },
    {
      "cell_type": "markdown",
      "source": [
        "8. **Write a Python program to:**\n",
        "  - **Train an XGBoost Classifier on the Breast Cancer dataset**\n",
        "  - **Tune the learning rate using GridSearchCV**\n",
        "  - **Print the best parameters and accuracy**"
      ],
      "metadata": {
        "id": "SKuNZtAUdhL2"
      }
    },
    {
      "cell_type": "code",
      "source": [
        "pip install xgboost\n"
      ],
      "metadata": {
        "colab": {
          "base_uri": "https://localhost:8080/"
        },
        "id": "NSRqAKHhdyyg",
        "outputId": "cd2e0f7c-193c-4d38-b157-fb87d56f8747"
      },
      "execution_count": 3,
      "outputs": [
        {
          "output_type": "stream",
          "name": "stdout",
          "text": [
            "Requirement already satisfied: xgboost in /usr/local/lib/python3.12/dist-packages (3.0.4)\n",
            "Requirement already satisfied: numpy in /usr/local/lib/python3.12/dist-packages (from xgboost) (2.0.2)\n",
            "Requirement already satisfied: nvidia-nccl-cu12 in /usr/local/lib/python3.12/dist-packages (from xgboost) (2.27.3)\n",
            "Requirement already satisfied: scipy in /usr/local/lib/python3.12/dist-packages (from xgboost) (1.16.1)\n"
          ]
        }
      ]
    },
    {
      "cell_type": "code",
      "source": [
        "from sklearn.datasets import load_breast_cancer\n",
        "from sklearn.model_selection import train_test_split, GridSearchCV\n",
        "from sklearn.metrics import accuracy_score\n",
        "from xgboost import XGBClassifier\n",
        "\n",
        "# Load the Breast Cancer dataset\n",
        "data = load_breast_cancer()\n",
        "X = data.data\n",
        "y = data.target\n",
        "\n",
        "# Split the data into train and test sets\n",
        "X_train, X_test, y_train, y_test = train_test_split(\n",
        "    X, y, test_size=0.2, random_state=42\n",
        ")\n",
        "\n",
        "# Initialize the XGBoost Classifier\n",
        "xgb_model = XGBClassifier(use_label_encoder=False, eval_metric='logloss', random_state=42)\n",
        "\n",
        "# Set up the parameter grid for learning rate\n",
        "param_grid = {\n",
        "    'learning_rate': [0.01, 0.05, 0.1, 0.2, 0.3]\n",
        "}\n",
        "\n",
        "# Use GridSearchCV to tune the learning rate\n",
        "grid_search = GridSearchCV(\n",
        "    estimator=xgb_model,\n",
        "    param_grid=param_grid,\n",
        "    cv=5,\n",
        "    scoring='accuracy',\n",
        "    n_jobs=-1\n",
        ")\n",
        "\n",
        "# Fit the model\n",
        "grid_search.fit(X_train, y_train)\n",
        "\n",
        "# Get the best model\n",
        "best_model = grid_search.best_estimator_\n",
        "\n",
        "# Predict on the test set\n",
        "y_pred = best_model.predict(X_test)\n",
        "\n",
        "# Evaluate accuracy\n",
        "accuracy = accuracy_score(y_test, y_pred)\n",
        "\n",
        "# Print best parameters and accuracy\n",
        "print(f\"Best Parameters: {grid_search.best_params_}\")\n",
        "print(f\"Accuracy of Best Model: {accuracy:.4f}\")\n"
      ],
      "metadata": {
        "colab": {
          "base_uri": "https://localhost:8080/"
        },
        "id": "4ETTDOh7d_wf",
        "outputId": "77b1bda8-57c5-4268-8fb5-a6e92203727f"
      },
      "execution_count": 4,
      "outputs": [
        {
          "output_type": "stream",
          "name": "stdout",
          "text": [
            "Best Parameters: {'learning_rate': 0.2}\n",
            "Accuracy of Best Model: 0.9561\n"
          ]
        },
        {
          "output_type": "stream",
          "name": "stderr",
          "text": [
            "/usr/local/lib/python3.12/dist-packages/xgboost/training.py:183: UserWarning: [11:37:48] WARNING: /workspace/src/learner.cc:738: \n",
            "Parameters: { \"use_label_encoder\" } are not used.\n",
            "\n",
            "  bst.update(dtrain, iteration=i, fobj=obj)\n"
          ]
        }
      ]
    },
    {
      "cell_type": "markdown",
      "source": [
        "9. **Write a Python program to:**\n",
        " -  **Train a CatBoost Classifier**\n",
        " -  **Plot the confusion matrix using `seaborn`**"
      ],
      "metadata": {
        "id": "AJVSsq_9eL2Y"
      }
    },
    {
      "cell_type": "code",
      "source": [
        "pip install catboost seaborn\n"
      ],
      "metadata": {
        "colab": {
          "base_uri": "https://localhost:8080/"
        },
        "id": "geGWSGJFeuvF",
        "outputId": "7ff82b3a-f745-4b20-d213-49a92a7fe0f3"
      },
      "execution_count": 6,
      "outputs": [
        {
          "output_type": "stream",
          "name": "stdout",
          "text": [
            "Collecting catboost\n",
            "  Downloading catboost-1.2.8-cp312-cp312-manylinux2014_x86_64.whl.metadata (1.2 kB)\n",
            "Requirement already satisfied: seaborn in /usr/local/lib/python3.12/dist-packages (0.13.2)\n",
            "Requirement already satisfied: graphviz in /usr/local/lib/python3.12/dist-packages (from catboost) (0.21)\n",
            "Requirement already satisfied: matplotlib in /usr/local/lib/python3.12/dist-packages (from catboost) (3.10.0)\n",
            "Requirement already satisfied: numpy<3.0,>=1.16.0 in /usr/local/lib/python3.12/dist-packages (from catboost) (2.0.2)\n",
            "Requirement already satisfied: pandas>=0.24 in /usr/local/lib/python3.12/dist-packages (from catboost) (2.2.2)\n",
            "Requirement already satisfied: scipy in /usr/local/lib/python3.12/dist-packages (from catboost) (1.16.1)\n",
            "Requirement already satisfied: plotly in /usr/local/lib/python3.12/dist-packages (from catboost) (5.24.1)\n",
            "Requirement already satisfied: six in /usr/local/lib/python3.12/dist-packages (from catboost) (1.17.0)\n",
            "Requirement already satisfied: contourpy>=1.0.1 in /usr/local/lib/python3.12/dist-packages (from matplotlib->catboost) (1.3.3)\n",
            "Requirement already satisfied: cycler>=0.10 in /usr/local/lib/python3.12/dist-packages (from matplotlib->catboost) (0.12.1)\n",
            "Requirement already satisfied: fonttools>=4.22.0 in /usr/local/lib/python3.12/dist-packages (from matplotlib->catboost) (4.59.1)\n",
            "Requirement already satisfied: kiwisolver>=1.3.1 in /usr/local/lib/python3.12/dist-packages (from matplotlib->catboost) (1.4.9)\n",
            "Requirement already satisfied: packaging>=20.0 in /usr/local/lib/python3.12/dist-packages (from matplotlib->catboost) (25.0)\n",
            "Requirement already satisfied: pillow>=8 in /usr/local/lib/python3.12/dist-packages (from matplotlib->catboost) (11.3.0)\n",
            "Requirement already satisfied: pyparsing>=2.3.1 in /usr/local/lib/python3.12/dist-packages (from matplotlib->catboost) (3.2.3)\n",
            "Requirement already satisfied: python-dateutil>=2.7 in /usr/local/lib/python3.12/dist-packages (from matplotlib->catboost) (2.9.0.post0)\n",
            "Requirement already satisfied: pytz>=2020.1 in /usr/local/lib/python3.12/dist-packages (from pandas>=0.24->catboost) (2025.2)\n",
            "Requirement already satisfied: tzdata>=2022.7 in /usr/local/lib/python3.12/dist-packages (from pandas>=0.24->catboost) (2025.2)\n",
            "Requirement already satisfied: tenacity>=6.2.0 in /usr/local/lib/python3.12/dist-packages (from plotly->catboost) (8.5.0)\n",
            "Downloading catboost-1.2.8-cp312-cp312-manylinux2014_x86_64.whl (99.2 MB)\n",
            "\u001b[2K   \u001b[90m━━━━━━━━━━━━━━━━━━━━━━━━━━━━━━━━━━━━━━━━\u001b[0m \u001b[32m99.2/99.2 MB\u001b[0m \u001b[31m7.8 MB/s\u001b[0m eta \u001b[36m0:00:00\u001b[0m\n",
            "\u001b[?25hInstalling collected packages: catboost\n",
            "Successfully installed catboost-1.2.8\n"
          ]
        }
      ]
    },
    {
      "cell_type": "code",
      "source": [
        "import seaborn as sns\n",
        "import matplotlib.pyplot as plt\n",
        "from sklearn.datasets import load_breast_cancer\n",
        "from sklearn.model_selection import train_test_split\n",
        "from sklearn.metrics import confusion_matrix\n",
        "from catboost import CatBoostClassifier\n",
        "\n",
        "# Load the Breast Cancer dataset\n",
        "data = load_breast_cancer()\n",
        "X = data.data\n",
        "y = data.target\n",
        "\n",
        "# Split the data into train and test sets\n",
        "X_train, X_test, y_train, y_test = train_test_split(X, y, test_size=0.2, random_state=42)\n",
        "\n",
        "# Initialize the CatBoost Classifier\n",
        "model = CatBoostClassifier(iterations=500, learning_rate=0.1, depth=6, silent=True)\n",
        "\n",
        "# Train the model\n",
        "model.fit(X_train, y_train)\n",
        "\n",
        "# Predict on the test set\n",
        "y_pred = model.predict(X_test)\n",
        "\n",
        "# Calculate confusion matrix\n",
        "cm = confusion_matrix(y_test, y_pred)\n",
        "\n",
        "# Plot confusion matrix using seaborn\n",
        "plt.figure(figsize=(6, 5))\n",
        "sns.heatmap(cm, annot=True, fmt=\"d\", cmap=\"Blues\", xticklabels=['Malignant', 'Benign'], yticklabels=['Malignant', 'Benign'])\n",
        "plt.title('Confusion Matrix')\n",
        "plt.xlabel('Predicted')\n",
        "plt.ylabel('Actual')\n",
        "plt.show()\n"
      ],
      "metadata": {
        "colab": {
          "base_uri": "https://localhost:8080/",
          "height": 487
        },
        "id": "l3Wpj8skede2",
        "outputId": "7610e7b7-330e-4531-8018-da5cecd6c0f0"
      },
      "execution_count": 7,
      "outputs": [
        {
          "output_type": "display_data",
          "data": {
            "text/plain": [
              "<Figure size 600x500 with 2 Axes>"
            ],
            "image/png": "[encoded data removed]"
          },
          "metadata": {}
        }
      ]
    },
    {
      "cell_type": "markdown",
      "source": [
        "10. **You're working for a FinTech company trying to predict loan default using\n",
        "customer demographics and transaction behavior.\n",
        "The dataset is imbalanced, contains missing values, and has both numeric and\n",
        "categorical features.\n",
        "Describe your step-by-step data science pipeline using boosting techniques:**\n",
        "- **Data preprocessing & handling missing/categorical values**\n",
        "- **Choice between AdaBoost, XGBoost, or CatBoost**\n",
        "- **Hyperparameter tuning strategy**\n",
        "- **Evaluation metrics you'd choose and why**\n",
        "- **How the business would benefit from your model**\n",
        "\n",
        "\n",
        "- To develop a robust loan default prediction model for a FinTech company, the data science pipeline would systematically address challenges like imbalanced data, missing values, and mixed feature types. A boosting ensemble model, such as CatBoost, XGBoost, or AdaBoost, can then be trained and fine-tuned to maximize predictive power.\n",
        "\n",
        "  **Step-by-step data science pipeline**\n",
        "  \n",
        "  **Data preprocessing & handling missing/categorical values**\n",
        "- Exploratory Data Analysis (EDA): Understand the dataset by examining summary statistics, distributions, and the relationship between features. Key checks include identifying the proportion of defaults, understanding the nature of features (numeric, categorical), and visualizing the data distribution.\n",
        "- Addressing class imbalance: The dataset contains significantly more non-defaulting customers than defaulting ones. To prevent the model from becoming biased towards the majority class, one of the following resampling techniques should be applied to the training data:\n",
        "  - SMOTE (Synthetic Minority Over-sampling Technique): Creates synthetic data points for the minority (default) class to balance the class distribution.\n",
        "  - Class weighting: The model's loss function can be adjusted to give a higher penalty for misclassifying the minority class, which is a method offered by most boosting algorithms.\n",
        "  - NearMiss Undersampling: Randomly removes samples from the majority class to balance the dataset.\n",
        "- Handling missing values: Missing data must be handled appropriately to prevent model errors.\n",
        "  - For numerical features: Use imputation techniques like replacing missing values with the mean, median, or mode. For a more sophisticated approach, use K-Nearest Neighbors (KNN) imputation, which estimates missing values based on similar data points.\n",
        "  - For categorical features: Fill missing values with the mode. An alternative is to create a new category for \"missing\" if the missingness is non-random and holds predictive power.\n",
        "- Encoding categorical features: Most boosting algorithms require numerical inputs.\n",
        "  - Target-agnostic: Use techniques like one-hot encoding for nominal features, or label encoding for ordinal features. This approach is often used with AdaBoost and XGBoost.\n",
        "  - Native handling: Use CatBoost's built-in capability to handle categorical features directly, which can improve model performance and reduce preprocessing efforts.  \n",
        "\n",
        "  **Choice between AdaBoost, XGBoost, or CatBoost**\n",
        "\n",
        "  The choice of boosting algorithm depends on the dataset's characteristics and the specific requirements of the project.\n",
        "- AdaBoost:\n",
        "  - Best for: Small, clean datasets and fast training.\n",
        "  - Considerations: Less powerful than gradient boosting methods for complex problems. Does not natively handle missing values or categorical features, requiring careful preprocessing.\n",
        "- XGBoost:\n",
        "  - Best for: Large datasets, as it is highly scalable, and situations requiring regularization to prevent overfitting.\n",
        "  - Considerations: Faster than traditional Gradient Boosting. Does not natively handle categorical features, so they must be pre-encoded. Offers high performance and robust feature handling.\n",
        "- CatBoost:\n",
        "  - Best for: Datasets with many categorical features, as it handles them natively, and datasets with outliers, as it is more robust to them.\n",
        "  - Considerations: Often produces high accuracy out-of-the-box but can be slower to train than XGBoost or LightGBM. Its ordered boosting approach helps prevent overfitting on categorical data.  \n",
        "\n",
        "  **Hyperparameter tuning strategy**\n",
        "\n",
        "  To find the optimal hyperparameters for the chosen boosting model, the following strategy should be employed:\n",
        "- Define the search space: Specify a range of values for critical hyperparameters, such as learning rate, number of estimators, and tree depth.\n",
        "- Use cross-validation: Split the training data into k-folds to ensure robust evaluation and prevent data leakage. Stratified K-fold cross-validation is essential here to maintain the class distribution in each fold.\n",
        "- Choose a search method:\n",
        "  - Randomized Search with Cross-Validation (RandomizedSearchCV): Search a specified number of parameter combinations randomly. This is more computationally efficient than grid search and often finds a good solution faster.\n",
        "  - Bayesian Optimization: Use past results to intelligently select the next set of hyperparameters to try. This is more efficient for large search spaces and can find optimal solutions in fewer iterations.\n",
        "- Consider cost-sensitive tuning: Given the business impact of false negatives (approving a defaulting loan) versus false positives (denying a non-defaulting loan), the tuning process can incorporate cost-sensitive metrics.\n",
        "\n",
        "  **Evaluation metrics you'd choose and why**\n",
        "\n",
        "  In an imbalanced dataset, accuracy is misleading because a model can achieve high accuracy by simply predicting the majority class. The following metrics provide a more nuanced and business-relevant evaluation:\n",
        "- Confusion Matrix: A detailed breakdown of True Positives, True Negatives, False Positives, and False Negatives, which helps interpret the model's error types.\n",
        "- Precision and Recall:\n",
        "  - Precision: The ratio of true positives to the total predicted positives. It measures the model's accuracy in predicting defaults. For a FinTech, this is important for managing risk and ensuring that predicted defaults are accurate.\n",
        "  - Recall (Sensitivity): The ratio of true positives to the total actual positives. It measures the model's ability to find all defaulters. Maximizing recall is often critical in loan default prediction to catch as many at-risk borrowers as possible.\n",
        "- F1-Score: The harmonic mean of precision and recall. It offers a balanced measure of a model's performance on the minority class.\n",
        "- AUC-ROC (Area Under the Receiver Operating Characteristic Curve): Measures the model's ability to discriminate between positive (default) and negative (non-default) classes across various probability thresholds. A high AUC-ROC indicates strong discriminatory power.\n",
        "- AUC-PR (Area Under the Precision-Recall Curve): Particularly useful for highly imbalanced datasets, as it focuses on the performance of the minority class. A higher AUC-PR indicates better performance on the positive (default) class.\n",
        "\n",
        "  **How the business would benefit from your model**\n",
        "\n",
        "  This predictive model offers several tangible benefits for the FinTech company:\n",
        "- Improved risk management: By accurately predicting the probability of default, the company can make more informed lending decisions. It can set appropriate interest rates and terms based on risk scores, or deny high-risk applications, thereby reducing financial losses from defaults.\n",
        "- Enhanced profitability: With better risk assessment, the company can expand its lending pool to creditworthy individuals who might have been previously rejected by traditional scoring methods, increasing its customer base and profitability.\n",
        "- Early intervention: The model can provide early warning signals for existing loans that show high-risk behavior. This allows the company to proactively engage with these customers and implement strategies like loan restructuring or refinancing to prevent a default from occurring.\n",
        "- Operational efficiency: The automated and data-driven approach to risk assessment can speed up the loan application process, reducing manual underwriting efforts and operational costs.\n",
        "- Fairness and interpretability: Using modern boosting models like CatBoost and employing Explainable AI techniques like SHAP allows for insights into which features contribute most to the prediction. This helps ensure the model is not relying on biased or unfair features, which is critical for regulatory compliance and building customer trust.\n",
        "\n"
      ],
      "metadata": {
        "id": "cge_LzvMe6O6"
      }
    }
  ]
}